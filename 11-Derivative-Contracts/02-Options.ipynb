{
 "cells": [
  {
   "cell_type": "markdown",
   "metadata": {},
   "source": [
    "You can request Options data by using **AddOption(symbol, resolution)** which adds a option chain to the security list.<br />\n",
    "\n",
    "The possible resolution is *minute*\n",
    "\n",
    "The access to contracts is identical as it is for futures\n",
    "Important: The SetFilter function gets 4 arguments: SetFilter( min strike, max strike, minexpiry, maxExpiry)"
   ]
  },
  {
   "cell_type": "markdown",
   "metadata": {},
   "source": [
    "## Properties\n",
    "The following properties are available (You can find all underlying properties of the Option contracts here: https://www.quantconnect.com/docs/data-library/options#Options-Using-Options-Data)\n",
    "\n",
    "* Symbol: Symbol of tradable asset.\n",
    "* UnderlyingSymbol: Symbol of underlying asset.\n",
    "* Strike: (decimal) strike price for contract.\n",
    "* Expiry: (datetime) expiry date for the contract.\n",
    "* Right: (OptionRight) Put or Call\n",
    "* TheoreticalPrice: (decimal) Price generated from option model.\n",
    "* ImpliedVolatility: (decimal) Implied volatility from option model.\n",
    "* Greeks: collection of greek properties\n",
    "* Time: (datetime) Time of the data.\n",
    "* OpenInterest: (decimal ) Number of contracts available.\n",
    "* LastPrice: (decimal) Last Trade Price\n",
    "* Volume: Number of contracts traded this minute.\n",
    "* BidPrice: (decimal) Bid price.\n",
    "* BidSize: (long) Bid Size\n",
    "* AskPrice: (decimal) Asking Price\n",
    "* AskSize: (long) Ask Size.\n",
    "* UnderlyingLastPrice: (decimal) Underlying price of asset.\n"
   ]
  },
  {
   "cell_type": "markdown",
   "metadata": {},
   "source": [
    "We can use the **Right** property to filter call or put options.\n",
    "Call Options are identified by 0 and Put by 1"
   ]
  },
  {
   "cell_type": "code",
   "execution_count": null,
   "metadata": {},
   "outputs": [],
   "source": [
    "class FilterByType(QCAlgorithm):\n",
    "\n",
    "    def Initialize(self):\n",
    "        self.SetStartDate(2018, 1, 1)\n",
    "        self.SetEndDate(2018, 2, 5)\n",
    "\n",
    "        self.SetCash(10000)\n",
    "\n",
    "        self.contractSymbol = None\n",
    "\n",
    "        # Subscribe to the google option  \n",
    "        google_option = self.AddOption(\"GOOG\", Resolution.Minute)\n",
    "\n",
    "        # Use standard filtering of 0-35 days\n",
    "\n",
    "    def OnData(self, slice):\n",
    "        \n",
    "        if not self.Portfolio.Invested:\n",
    "            for chain in slice.OptionChains.Values:\n",
    "                \n",
    "                # Log the type of the options (0 is Call and 1 is Put)\n",
    "                for contract in chain:\n",
    "                    call_or_put = \"Call\" if contract.Right == 0 else \"Put\"\n",
    "                    self.Debug(call_or_put)\n",
    "                \n",
    "                break\n",
    "                \n",
    "                # Get only the call options\n",
    "                contracts_filtered = [contract for contract in chain if contract.Right == 0]\n",
    "                "
   ]
  },
  {
   "cell_type": "markdown",
   "metadata": {},
   "source": [
    "Let's create an options table similar to https://finance.yahoo.com/quote/GOOG/options?date=1630022400&p=GOOG&straddle=false&guccounter=1\n",
    "\n",
    "Additionally we plot the last price of the underlying asset"
   ]
  },
  {
   "cell_type": "code",
   "execution_count": null,
   "metadata": {},
   "outputs": [],
   "source": [
    "class Table(QCAlgorithm):\n",
    "\n",
    "    def Initialize(self):\n",
    "        self.SetStartDate(2018, 1, 1)\n",
    "        self.SetEndDate(2018, 2, 5)\n",
    "\n",
    "        self.SetCash(10000)\n",
    "\n",
    "        self.contractSymbol = None\n",
    "\n",
    "        # Subscribe to the google option  \n",
    "        google_option = self.AddOption(\"GOOG\", Resolution.Minute)\n",
    "\n",
    "        # Use standard filtering of 0-35 days\n",
    "        \n",
    "        price_plot = Chart('Underlying Price')\n",
    "        price_plot.AddSeries(Series('Price', SeriesType.Line, 0))\n",
    "        self.AddChart(price_plot)  # Add the Chart to your environment\n",
    "\n",
    "\n",
    "    def OnData(self, slice):\n",
    "        \n",
    "        if not self.Portfolio.Invested:\n",
    "            for chain in slice.OptionChains.Values:\n",
    "                \n",
    "                # Log the type of the options (0 is Call and 1 is Put)\n",
    "                for contract in chain:\n",
    "                    \n",
    "                    name = contract.Symbol\n",
    "                    underlying = contract.UnderlyingSymbol\n",
    "                    expiration = contract.Expiry\n",
    "                    type = \"Call\" if contract.Right == 0 else \"Put\"\n",
    "                    strike = contract.Strike\n",
    "                    last_price = contract.LastPrice\n",
    "                    bid = contract.BidPrice\n",
    "                    ask = contract.AskPrice\n",
    "                    volatility = contract.ImpliedVolatility\n",
    "                    underlying_price = contract.UnderlyingLastPrice\n",
    "                    self.Plot(\"Underlying Price\", \"Price\", underlying_price)\n",
    "                    \n",
    "                    self.Debug(f\"{name}, {underlying}, {expiration}, {type}, {strike}, {last_price}, {bid}, {ask}, {volatility}\")\n",
    "                    \n",
    "                    break # breaks to increase readibilty and prevent flooding\n",
    "                \n",
    "                break\n"
   ]
  }
 ],
 "metadata": {
  "kernelspec": {
   "display_name": "Python 3",
   "language": "python",
   "name": "python3"
  },
  "language_info": {
   "codemirror_mode": {
    "name": "ipython",
    "version": 3
   },
   "file_extension": ".py",
   "mimetype": "text/x-python",
   "name": "python",
   "nbconvert_exporter": "python",
   "pygments_lexer": "ipython3",
   "version": "3.8.10"
  }
 },
 "nbformat": 4,
 "nbformat_minor": 4
}
